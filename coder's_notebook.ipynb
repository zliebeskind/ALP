{
 "cells": [
  {
   "cell_type": "markdown",
   "id": "e1117c97-1849-4a3a-8501-d87fd07e27e9",
   "metadata": {},
   "source": [
    "# <u>**Coder's Notebook**"
   ]
  },
  {
   "cell_type": "markdown",
   "id": "5d0e6766-2b5a-479e-b381-224d64ac1d2d",
   "metadata": {},
   "source": [
    "### **Week 1**"
   ]
  },
  {
   "cell_type": "markdown",
   "id": "1f0dfa56-47c4-40d3-a0b6-2db2b43eb5f7",
   "metadata": {},
   "source": [
    "<u>**Learning Goals:**"
   ]
  },
  {
   "cell_type": "markdown",
   "id": "b6f7a693-1251-41c3-acc6-b15e224a1b4b",
   "metadata": {},
   "source": [
    "Be able to read, comprehend, trace, adapt, and create Python code that:\n",
    "- outputs text to the console\n",
    "- assigns data to variables\n",
    "- gets input\n",
    "- assigns input to variables\n",
    "- refers to variables in other statements such as `print`\n",
    "\n",
    "**What is a computer?**\n",
    "- input -> storage <-> process -> output\n",
    "\n",
    "**Syntax - The way the code is written** Ex: `print(“your text goes here”)`\n",
    "- `print` - no capital p\n",
    "- Brackets - after print and at the end\n",
    "- Text must go in quotation marks\n",
    "\n",
    "**Variable -** a placeholder for information\n",
    "- can store one piece of information\n",
    "- no spaces in the name, name starts with lowercase letter, every variable needs a unique name\n",
    "- use the varible name every time you want to call the information\n",
    "\n",
    "**Input -** `input()`\n",
    "- `name = input()` turns input into a variable\n",
    "- putting an argument in `input()` prints text before taking the input"
   ]
  },
  {
   "cell_type": "code",
   "execution_count": 6,
   "id": "5958dba7-2a7d-4f7a-97c7-7d9201a3e550",
   "metadata": {},
   "outputs": [
    {
     "name": "stdout",
     "output_type": "stream",
     "text": [
      "What is your name?  Zach\n"
     ]
    },
    {
     "name": "stdout",
     "output_type": "stream",
     "text": [
      "Zach\n"
     ]
    }
   ],
   "source": [
    "name = input(\"What is your name? \")\n",
    "print(name)"
   ]
  },
  {
   "cell_type": "markdown",
   "id": "1209bb6d-4c16-4ce1-87e9-7223f2ad64e2",
   "metadata": {},
   "source": [
    "**Data Types of Variables:**\n",
    "- string - words, ex: `\"Zach\"` or `\"Hello, world!\"`\n",
    "- int - integers, ex: `2` or `8`\n",
    "- boolean - `True` or `False`\n",
    "- float - decimal numbers, ex: `2.47` or `1.0`\n",
    "\n",
    "**Concatenation:**\n",
    "- use `+` to join strings and variables in a `print()` statement\n",
    "- all parts of the `print()` statement must be the same data type"
   ]
  },
  {
   "cell_type": "code",
   "execution_count": 7,
   "id": "5761a171-76c1-439c-8a42-7d8407485c99",
   "metadata": {},
   "outputs": [
    {
     "name": "stdout",
     "output_type": "stream",
     "text": [
      "Hello, Zach.\n"
     ]
    }
   ],
   "source": [
    "name = \"Zach\"\n",
    "print(\"Hello, \" + name + \".\")"
   ]
  },
  {
   "cell_type": "markdown",
   "id": "6deaeb97-7b1e-4e09-bb08-54d857e7a04d",
   "metadata": {},
   "source": [
    "**Typecast -** `type(var)`\n",
    "- returns the data type of a variable"
   ]
  },
  {
   "cell_type": "code",
   "execution_count": 10,
   "id": "3e0b3d4f-1e56-41af-9b3b-d104487f6382",
   "metadata": {},
   "outputs": [
    {
     "name": "stdout",
     "output_type": "stream",
     "text": [
      "<class 'float'>\n"
     ]
    }
   ],
   "source": [
    "var = 2.47\n",
    "print(type(var))"
   ]
  },
  {
   "cell_type": "markdown",
   "id": "83b4d896-5c17-449a-ba92-9a5c154e9fb8",
   "metadata": {},
   "source": [
    "**Conversions:**\n",
    "- `str()` to convert to string\n",
    "- `int()` to convert to int\n",
    "- `bool()` to convert to bool\n",
    "- `float()` to convert to float"
   ]
  },
  {
   "cell_type": "code",
   "execution_count": 12,
   "id": "e39b4a7c-2c72-49ab-ad21-cfb3c80496de",
   "metadata": {},
   "outputs": [
    {
     "name": "stdout",
     "output_type": "stream",
     "text": [
      "<class 'str'>\n",
      "<class 'int'>\n",
      "<class 'float'>\n"
     ]
    }
   ],
   "source": [
    "var = \"247\"\n",
    "print(type(var))\n",
    "var = int(var)\n",
    "print(type(var))\n",
    "var = float(var)\n",
    "print(type(var))"
   ]
  },
  {
   "cell_type": "markdown",
   "id": "cd19c988-e942-40d5-bb5b-bb17c1258903",
   "metadata": {},
   "source": [
    "**Conditionals:**\n",
    "- `if` - goes through a process if a condition is met\n",
    "- `elif` - goes through a process if a condition is met, and the previous one is not met\n",
    "- `else` - goes through a process if the previous condition is not met\n",
    "- there must be a colon at the end of every line\n",
    "- every branch needs to be indented with the TAB key\n",
    "- use a double equals sign (`==`), ex: `if num1 == 2:`"
   ]
  },
  {
   "cell_type": "code",
   "execution_count": 13,
   "id": "3cae488f-eaf4-456b-afad-20077815488f",
   "metadata": {},
   "outputs": [
    {
     "name": "stdout",
     "output_type": "stream",
     "text": [
      "Pick a number:  2\n"
     ]
    },
    {
     "name": "stdout",
     "output_type": "stream",
     "text": [
      "You chose 2.\n"
     ]
    }
   ],
   "source": [
    "num = int(input(\"Pick a number: \"))\n",
    "if num == 1:\n",
    "    print(\"You chose 1.\")\n",
    "elif num == 2:\n",
    "    print(\"You chose 2.\")\n",
    "else:\n",
    "    print(\"You did not choose 1 or 2.\")"
   ]
  },
  {
   "cell_type": "markdown",
   "id": "f0bc7c04-e8e3-4cc3-9164-23648efa595f",
   "metadata": {},
   "source": [
    "**Boolean Conditions:**\n",
    "- `==` - equal to\n",
    "- `!=` - not equal to\n",
    "- `>` - greater than\n",
    "- `>=` - greater than or equal to\n",
    "- `<` - less than\n",
    "- `<=` - less than or equal to\n",
    "\n",
    "**`while` loops:**\n",
    "- repeats until a condition is no longer true"
   ]
  },
  {
   "cell_type": "code",
   "execution_count": 14,
   "id": "ec1bbf0f-c404-4468-b4ec-eb617bd61824",
   "metadata": {},
   "outputs": [
    {
     "name": "stdout",
     "output_type": "stream",
     "text": [
      "Pick a number from 1 to 10:  3\n",
      "Pick a number from 1 to 10:  7\n",
      "Pick a number from 1 to 10:  10\n",
      "Pick a number from 1 to 10:  5\n"
     ]
    }
   ],
   "source": [
    "while num != 5:\n",
    "    num=int(input(\"Pick a number from 1 to 10: \"))"
   ]
  },
  {
   "cell_type": "markdown",
   "id": "d83cf185-a612-4208-867a-9a3679753076",
   "metadata": {},
   "source": [
    "**Counters:**\n",
    "- `+=` - adds a number to a variable\n",
    "- `-=` - subtracts a number from a variable\n",
    "- `*=` - multiplies a variable by a number\n",
    "- `/=` - divides a variable by a number\n",
    "- `//=` - divides a variable by a number and rounds it down"
   ]
  },
  {
   "cell_type": "code",
   "execution_count": 16,
   "id": "078e5935-df45-4719-b80f-2a4587742b48",
   "metadata": {},
   "outputs": [
    {
     "name": "stdout",
     "output_type": "stream",
     "text": [
      "1\n",
      "5\n"
     ]
    }
   ],
   "source": [
    "num = 1\n",
    "print(num)\n",
    "num += 4\n",
    "print(num)"
   ]
  },
  {
   "cell_type": "markdown",
   "id": "52f41c77-6601-4918-95b0-5f3e2eae34c6",
   "metadata": {},
   "source": [
    "**HCI (Human Computer Interface):**\n",
    "\n",
    "Ethnography - The process of collecting and retrieving data from clients\n",
    "- end goal\n",
    "- target audience\n",
    "- platforms\n",
    "- ideal looks\n",
    "\n",
    "Affinity Diagrams:\n",
    "- organize and group ideas, opinions, and issues into categories or themes\n",
    "- visual representations of the gruops and their related ideas\n",
    "\n",
    "Low-fidelity Diagrams:\n",
    "- simple sketches or mockups that are used to convey design ideas\n",
    "- quick and inexpensive\n",
    "- valuable tool for designers to quickly explore and communicate\n",
    "- test assumptions\n",
    "- helps to get feedback from users\n",
    "\n",
    "High-fidelity Diagram:\n",
    "- more complete representations of the end product\n",
    "- captures the look and feel of the product in the advanced stages of the design process"
   ]
  },
  {
   "cell_type": "markdown",
   "id": "103fd769-c532-4a71-ac71-053b69835ec6",
   "metadata": {},
   "source": [
    "<u>**Learning Goals:**"
   ]
  },
  {
   "cell_type": "markdown",
   "id": "1d584486-9997-4f8a-8a39-026e9c98a3e7",
   "metadata": {},
   "source": [
    "Be able to read, comprehend, trace, adapt, and crate Python code that:\n",
    "- defines a subroutine\n",
    "- calls a subroutine\n",
    "- creates a subroutine that uses arguments\n",
    "- gets user input and uses it as an argument in a subroutine\n",
    "- returns a valuefrom a subroutine\n",
    "\n",
    "\n",
    "**Subroutines:**\n",
    "\n",
    "- gives a single name to a set of actions\n",
    "- to create a subroutine, use `def`\n",
    "- use indentation when defining a subroutine\n",
    "- subroutine names do not use camelCase\n",
    "- they use all lowercase with underscores (`_`) between the words\n",
    "- subroutines that return a value (using `return`) are called functions\n",
    "- subroutines can also have arguments, ex: `def my_subroutine(arg1, arg2):`"
   ]
  },
  {
   "cell_type": "code",
   "execution_count": 17,
   "id": "5f9268c4-5965-4e40-8d51-5317f83f5404",
   "metadata": {},
   "outputs": [
    {
     "name": "stdout",
     "output_type": "stream",
     "text": [
      "5\n"
     ]
    }
   ],
   "source": [
    "def my_subroutine(arg1, arg2):\n",
    "    sum = arg1 + arg2\n",
    "    return sum\n",
    "\n",
    "num1 = 2\n",
    "num2 = 3\n",
    "print(my_subroutine(num1, num2))"
   ]
  },
  {
   "cell_type": "markdown",
   "id": "fb4403fd-348c-44c3-af88-7771fdeb7e7b",
   "metadata": {},
   "source": [
    "**`for` loops:**\n",
    "- `for i in range(num1, num2):` starting at `num1`, it will repeat the code, incrementing `i` every time, and once `i` is equal to `num2`, it will stop "
   ]
  },
  {
   "cell_type": "code",
   "execution_count": 20,
   "id": "2546f780-6f99-49e4-840b-dad5d62e103a",
   "metadata": {},
   "outputs": [
    {
     "name": "stdout",
     "output_type": "stream",
     "text": [
      "1\n",
      "3\n",
      "6\n",
      "10\n",
      "15\n",
      "21\n",
      "28\n",
      "36\n",
      "45\n",
      "55\n"
     ]
    }
   ],
   "source": [
    "num = 0\n",
    "for i in range(1, 11):\n",
    "    num += i\n",
    "    print(num)"
   ]
  },
  {
   "cell_type": "markdown",
   "id": "db0b2388-d52c-4f58-aef7-be7c5f2ce79a",
   "metadata": {},
   "source": [
    "**Git and Github:**\n",
    "\n",
    "Push:\n",
    "- `cd \"folder name\"`\n",
    "- `git init` (first time only)\n",
    "- `git add .`\n",
    "- `git commit -m \"commit_name\"`\n",
    "- `git push`\n",
    "\n",
    "Pull:\n",
    "- `cd \"folder_name\"`\n",
    "- `git pull`"
   ]
  },
  {
   "cell_type": "markdown",
   "id": "1b11e51f-49c0-487f-b0a3-cc2e2776458c",
   "metadata": {},
   "source": [
    "**Mod (`%`):**\n",
    "- returns the remainder of the division of two numbers"
   ]
  },
  {
   "cell_type": "code",
   "execution_count": 27,
   "id": "fca0b442-3e65-4bf2-9ade-6dec8f640fe7",
   "metadata": {},
   "outputs": [
    {
     "name": "stdout",
     "output_type": "stream",
     "text": [
      "1\n"
     ]
    }
   ],
   "source": [
    "num = 4 % 3\n",
    "print(num)"
   ]
  },
  {
   "cell_type": "markdown",
   "id": "033310f5-f851-4803-9b49-4a5119ab4938",
   "metadata": {},
   "source": [
    "### **Week 2**"
   ]
  },
  {
   "cell_type": "markdown",
   "id": "444fb825-f3f4-43a8-baa9-6cdad55abfd7",
   "metadata": {},
   "source": [
    "**Internet of Things (IoT):**\n",
    "- a system that works without human interaction\n",
    "- data collection (sensors) -> data transmition\n",
    "- TCP - slower, more secure\n",
    "- UDP - faster, less secure\n",
    "\n",
    "**Language Learning Models (LLM), Imblementing GPT2 via Hugging Face Inference API:**\n",
    "Learning Goal:\n",
    "- In today's lesson, we will learn how to make a simple call to a GPT2 model.\n",
    "\n",
    "What is an API?\n",
    "- API - Application Programming Interface\n",
    "- the messenger that takes requests and tells the system what to do, and delivers the response back to you\n",
    "- like a waiter at a resteraunt, delivering an order (commands) from you to the kitchen (system), and bringing the food (output) from the system back to you\n",
    "- if a database is too big to save to a computer, we can use an API to access the data without downloading it\n",
    "\n",
    "Three types of decoding methods:\n",
    "- Deterministic\n",
    "- Stochastic\n",
    "- Contrastive Search"
   ]
  },
  {
   "cell_type": "markdown",
   "id": "d642995c-9077-4784-9f1b-6ca0415f222f",
   "metadata": {},
   "source": [
    "**Lists:**\n",
    "- lists are another variable data type, which stores multiple values in an order\n",
    "- indexing of a list starts at 0\n",
    "- lists have brackets (`[]`) around them\n",
    "- `list.append(item)` - appends an item to the end of a list\n",
    "- `list[index]` - returns the item at a specific index in a list\n",
    "- `list.index(item)` - returns the index(es) of an item in a list\n",
    "- `list.insert(index, item)` - inserts an item into an index in a list\n",
    "- `len(list)` - returns the length of a list\n",
    "- `list.pop(index)` - removes an item at an index in a list\n",
    "- `list.remove(item)` - removes an item from a list\n",
    "- `\"string\".join(list)` - joins the items in a list together to form a string, inserting a string between every item"
   ]
  },
  {
   "cell_type": "code",
   "execution_count": 24,
   "id": "8b9683bc-c4c1-4ddc-9a3d-a03f67732dc5",
   "metadata": {},
   "outputs": [
    {
     "name": "stdout",
     "output_type": "stream",
     "text": [
      "a\n",
      "insert\n",
      "insert b c d\n"
     ]
    }
   ],
   "source": [
    "list = [\"a\", \"b\", \"c\", \"d\"]\n",
    "print(list[0])\n",
    "list.remove(\"a\")\n",
    "list.insert(0, \"insert\")\n",
    "print(list[0])\n",
    "joinedList = \" \".join(list)\n",
    "print(joinedList)"
   ]
  },
  {
   "cell_type": "markdown",
   "id": "af4387bd-afba-4c76-a475-19479caaf681",
   "metadata": {},
   "source": [
    "**Ciphers:**\n",
    "- Caesar Cipher - shifts the alphabet over by some amount of letters\n",
    "- Substitution Cipher - replaces every letter with a distinct random letter\n",
    "- Vigenere Cipher - a secret word is repeated over the text to encrypt, and the indexes of the letters are added together, looping over if needed\n",
    "- Affine Cipher - the index of the letter is fed into the function `(ax + b) % 26`, where `a` and 26 are coprime, and `b` is the magnitude of the shift, and the new index is turned back into a letter, looping over if needed"
   ]
  },
  {
   "cell_type": "markdown",
   "id": "e82e927f-2459-47db-91f4-c0188143e247",
   "metadata": {},
   "source": [
    "### **Week 3**"
   ]
  },
  {
   "cell_type": "markdown",
   "id": "b97cef98-5b74-4c15-bda5-99d8fc5d6425",
   "metadata": {},
   "source": [
    "**Dictionaries:**\n",
    "- stores data values in `key:value` pairs\n",
    "- written with curly brackets `{}`"
   ]
  },
  {
   "cell_type": "code",
   "execution_count": 26,
   "id": "9537c08f-03f1-433e-b497-59c84337afd4",
   "metadata": {},
   "outputs": [
    {
     "name": "stdout",
     "output_type": "stream",
     "text": [
      "1999\n"
     ]
    }
   ],
   "source": [
    "dict = {\n",
    "    \"name\": \"Jeff\",\n",
    "    \"birth_month\": \"October\",\n",
    "    \"birth_year\": 1999\n",
    "}\n",
    "print(dict[\"birth_year\"])\n",
    "    "
   ]
  },
  {
   "cell_type": "markdown",
   "id": "da422767-94c2-4a12-8a21-0aa7af55188a",
   "metadata": {},
   "source": [
    "**How to see WiFi Passwords:**\n",
    "- `netsh wlan show profile`\n",
    "- `wlan show profile \"network_name\" key=clear`"
   ]
  }
 ],
 "metadata": {
  "kernelspec": {
   "display_name": "Python 3 (ipykernel)",
   "language": "python",
   "name": "python3"
  },
  "language_info": {
   "codemirror_mode": {
    "name": "ipython",
    "version": 3
   },
   "file_extension": ".py",
   "mimetype": "text/x-python",
   "name": "python",
   "nbconvert_exporter": "python",
   "pygments_lexer": "ipython3",
   "version": "3.11.4"
  }
 },
 "nbformat": 4,
 "nbformat_minor": 5
}
